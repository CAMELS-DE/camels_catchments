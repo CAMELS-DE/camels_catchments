{
 "cells": [
  {
   "cell_type": "markdown",
   "metadata": {},
   "source": [
    "# Quality Criteria\n",
    "\n",
    "This notebook add quality criteria to the metadata which we consider to select the stations that will be part of the CAMELS-DE dataset.  \n",
    "The criteria are defined in the `parameters` cell and were discussed in the CAMELS-DE consortium.  \n",
    "\n",
    "Criteria:\n",
    "- `omit_outside_of_germany` (bool): omit catchments that are located (in part) outside of the borders of Germany.\n",
    "- `min_area` (float): smallest catchment area to consider [km²]\n",
    "- `max_area` (float): lagest catchment area to consider [km²]\n",
    "- `q_more_than_10_years` (bool): only use catchments with at least 10 years of Q data\n",
    "\n",
    "Quality Criteria:\n",
    "- `maximum_difference_to_reported_area` (float): for most of the stations, we have a reported catchment area from the metadata (from the federal states), with this parameter, we control how large the relative difference to the reported area is allowed to be. "
   ]
  },
  {
   "cell_type": "code",
   "execution_count": null,
   "metadata": {},
   "outputs": [],
   "source": [
    "from camelsp import get_metadata, Station\n",
    "\n",
    "import pandas as pd\n",
    "import geopandas as gpd"
   ]
  },
  {
   "cell_type": "markdown",
   "metadata": {},
   "source": [
    "## Parameters / Criteria"
   ]
  },
  {
   "cell_type": "code",
   "execution_count": 2,
   "metadata": {
    "tags": [
     "parameters"
    ]
   },
   "outputs": [],
   "source": [
    "min_area: float = 5. # km^2\n",
    "max_area: float = 15000. # km^2\n",
    "min_years_of_q: bool = 10\n",
    "\n",
    "maximum_difference_to_reported_area: float = 0.1 # 10%"
   ]
  },
  {
   "cell_type": "code",
   "execution_count": 3,
   "metadata": {},
   "outputs": [],
   "source": [
    "# initialize dataframe to store results of criteria\n",
    "metadata = get_metadata()\n",
    "\n",
    "camels_ids = metadata[\"camels_id\"].values\n",
    "\n",
    "# initialize dataframe with camels ids as index\n",
    "df_criteria = pd.DataFrame(index=camels_ids)"
   ]
  },
  {
   "cell_type": "markdown",
   "metadata": {},
   "source": [
    "## Check if merit hydro is available for the station"
   ]
  },
  {
   "cell_type": "code",
   "execution_count": 4,
   "metadata": {},
   "outputs": [
    {
     "name": "stdout",
     "output_type": "stream",
     "text": [
      "Number of stations without preselection: 2870\n",
      "Number of stations with merit hydro catchment: 2824\n"
     ]
    }
   ],
   "source": [
    "# initialize column to store if merit hydro catchment is available\n",
    "df_criteria[\"merit_hydro_available\"] = False\n",
    "\n",
    "for camels_id in df_criteria.index.values:\n",
    "    # initialize station\n",
    "    s = Station(camels_id)\n",
    "\n",
    "    # check if merit hydro catchment is available\n",
    "    if s.get_catchment(\"merit_hydro\") is not None:\n",
    "        df_criteria.loc[camels_id, \"merit_hydro_available\"] = True\n",
    "\n",
    "print(f\"Number of stations without preselection: {len(df_criteria)}\")\n",
    "print(f\"Number of stations with merit hydro catchment: {len(df_criteria[df_criteria['merit_hydro_available'] == True])}\")"
   ]
  },
  {
   "cell_type": "markdown",
   "metadata": {},
   "source": [
    "## Check if length of Q data is minimum 10 years\n",
    "\n",
    "Calculate which stations have at least 10 years of Q.  \n",
    "Do not use `dateindex.max() - dateindex.min()` as we do not want to include NaNs, we want **10 years of values** -> 3,650 values minimum"
   ]
  },
  {
   "cell_type": "code",
   "execution_count": 5,
   "metadata": {},
   "outputs": [
    {
     "name": "stdout",
     "output_type": "stream",
     "text": [
      "Number of stations without preselection: 2870\n",
      "Number of stations with more than 10 years of discharge data: 2300\n"
     ]
    }
   ],
   "source": [
    "# initialize column to store if minimum 10 years of discharge data are available\n",
    "df_criteria[f\"q_more_than_{min_years_of_q}_years\"] = False\n",
    "\n",
    "\n",
    "for camels_id in df_criteria.index.values:\n",
    "    # initialize station\n",
    "    # try:\n",
    "    #     s = Station(camels_id)\n",
    "    # except:\n",
    "    #     print(f\"Station {id} not found\")\n",
    "    #     continue\n",
    "    s = Station(camels_id)\n",
    "    # get data\n",
    "    df = s.get_data()\n",
    "\n",
    "    # count q values that are not nan\n",
    "    if 'q' in df.columns:\n",
    "        q_count = df['q'].count()\n",
    "\n",
    "        # if q_count is below 3650, set flag to False, else to True\n",
    "        if q_count < 365 * 10:\n",
    "            df_criteria.loc[camels_id, f'q_more_than_{min_years_of_q}_years'] = False\n",
    "        else:\n",
    "            df_criteria.loc[camels_id, f'q_more_than_{min_years_of_q}_years'] = True\n",
    "    else:\n",
    "        df_criteria.loc[camels_id, f'q_more_than_{min_years_of_q}_years'] = False\n",
    "\n",
    "print(f\"Number of stations without preselection: {len(df_criteria)}\")\n",
    "print(f\"Number of stations with more than {min_years_of_q} years of discharge data: {len(df_criteria[df_criteria[f'q_more_than_{min_years_of_q}_years'] == True])}\")"
   ]
  },
  {
   "cell_type": "markdown",
   "metadata": {},
   "source": [
    "## Check minimum_area < catchment_area < maximum_area "
   ]
  },
  {
   "cell_type": "code",
   "execution_count": 6,
   "metadata": {},
   "outputs": [
    {
     "name": "stdout",
     "output_type": "stream",
     "text": [
      "Number of stations without preselection: 2870\n",
      "Number of stations with merit hydro catchment area within limits: 2708\n"
     ]
    }
   ],
   "source": [
    "# initialize column to store if catchment area is within limits\n",
    "df_criteria[f\"merit_area_greater_{min_area}_smaller_{max_area}\"] = False\n",
    "\n",
    "for camels_id in df_criteria.index.values:\n",
    "    # initialize station\n",
    "    s = Station(camels_id)\n",
    "\n",
    "    gdf_merit = s.get_catchment(\"merit_hydro\")\n",
    "\n",
    "    # check if merit hydro catchment is available\n",
    "    if gdf_merit is not None:\n",
    "        # transform to crs in meters to calculate area\n",
    "        gdf_merit = gdf_merit.to_crs(epsg=6933)\n",
    "        \n",
    "        # calculate area\n",
    "        area_merit = gdf_merit.area.sum() / 1e6 # in km2\n",
    "\n",
    "        # check if area is within limits\n",
    "        within_limits = (area_merit >= min_area) and (area_merit <= max_area)\n",
    "\n",
    "        df_criteria.loc[camels_id, f\"merit_area_greater_{min_area}_smaller_{max_area}\"] = within_limits\n",
    "\n",
    "print(f\"Number of stations without preselection: {len(df_criteria)}\")\n",
    "print(f\"Number of stations with merit hydro catchment area within limits: {len(df_criteria[df_criteria[f'merit_area_greater_{min_area}_smaller_{max_area}'] == True])}\")"
   ]
  },
  {
   "cell_type": "markdown",
   "metadata": {},
   "source": [
    "## Check if catchment is located (in parts) outside of Germany\n",
    "\n",
    "We do not have HYRAS data outside of Germany, so we do not use these catchments for HYRAS data acquisition.\n",
    "\n",
    "To check whether the catchment boundaries are entirely inside Germany, we use the geopackage of Germany found here: We use the geopackage from here instead: https://gdz.bkg.bund.de/index.php/default/open-data/verwaltungsgebiete-1-250-000-stand-01-01-vg250-01-01.html\n",
    "\n",
    "The geopackage must be downloaded and placed inside the folder `input_data/assets_criteria`."
   ]
  },
  {
   "cell_type": "code",
   "execution_count": 8,
   "metadata": {},
   "outputs": [
    {
     "data": {
      "text/plain": [
       "<Axes: >"
      ]
     },
     "execution_count": 8,
     "metadata": {},
     "output_type": "execute_result"
    },
    {
     "data": {
      "image/png": "[encoded data removed]",
      "text/plain": [
       "<Figure size 640x480 with 1 Axes>"
      ]
     },
     "metadata": {},
     "output_type": "display_data"
    }
   ],
   "source": [
    "gdf_germany = gpd.read_file(\"/input_data/assets_criteria/vg250_01-01.utm32s.gpkg.ebenen/vg250_ebenen_0101/DE_VG250.gpkg\")\n",
    "\n",
    "# transform to EPSG:4326\n",
    "gdf_germany = gdf_germany.to_crs(epsg=4326)\n",
    "\n",
    "# only get the border of all the geometries in the shapefile\n",
    "gdf_germany_border = gpd.GeoDataFrame(geometry=[gdf_germany.geometry.unary_union], crs=gdf_germany.crs)\n",
    "\n",
    "gdf_germany_border.plot()"
   ]
  },
  {
   "cell_type": "markdown",
   "metadata": {},
   "source": [
    "### Check if catchment is inside the borders of Germany"
   ]
  },
  {
   "cell_type": "code",
   "execution_count": 9,
   "metadata": {},
   "outputs": [
    {
     "name": "stdout",
     "output_type": "stream",
     "text": [
      "Number of stations without preselection: 2870\n",
      "Number of stations with merit hydro catchment located completely in Germany: 2414\n"
     ]
    }
   ],
   "source": [
    "# initialize column to store if catchment area is within limits\n",
    "df_criteria[\"merit_completely_within_germany\"] = False # catchments without merit hydro catchment are False by default\n",
    "\n",
    "for camels_id in df_criteria.index.values:\n",
    "    # initialize station\n",
    "    s = Station(camels_id)\n",
    "\n",
    "    gdf_merit = s.get_catchment(\"merit_hydro\")\n",
    "\n",
    "    # check if merit hydro catchment is available\n",
    "    if gdf_merit is not None:\n",
    "        # check if catchment is completely within the borders of germany\n",
    "        within_germany = gdf_merit.within(gdf_germany_border).values[0]\n",
    "\n",
    "        df_criteria.loc[camels_id, \"merit_completely_within_germany\"] = within_germany\n",
    "\n",
    "print(f\"Number of stations without preselection: {len(df_criteria)}\")\n",
    "print(f\"Number of stations with merit hydro catchment located completely in Germany: {len(df_criteria[df_criteria['merit_completely_within_germany'] == True])}\")"
   ]
  },
  {
   "cell_type": "markdown",
   "metadata": {},
   "source": [
    "## Check difference to reported area"
   ]
  },
  {
   "cell_type": "code",
   "execution_count": 10,
   "metadata": {},
   "outputs": [],
   "source": [
    "def calculate_relative_difference_to_area_reported(area_reported: float, gdf_compare: gpd.GeoDataFrame):\n",
    "    \"\"\"\n",
    "    Calculate the relative difference in area between a catchment and the reported area.  \n",
    "    Returns None if gdf_compare is None.\n",
    "\n",
    "    Parameters:\n",
    "    -------\n",
    "    area_reported : float\n",
    "        Reported area of the catchment in km2.\n",
    "    gdf_compare : gpd.GeoDataFrame\n",
    "        GeoDataFrame of the catchment to compare.\n",
    "\n",
    "    Returns:\n",
    "    -------\n",
    "    ratio_area_difference: float\n",
    "        Ratio of difference in area between reported area and area of the catchment.  \n",
    "        Equals 0 when the reported area is equal to the area of the catchment.\n",
    "\n",
    "    \"\"\"\n",
    "    if gdf_compare is None:\n",
    "        return None\n",
    "    if area_reported is None or area_reported == 0:\n",
    "        return None\n",
    "    \n",
    "    # transform to crs in meters to calculate area\n",
    "    gdf_compare = gdf_compare.to_crs(epsg=6933)\n",
    "        \n",
    "    # calculate area\n",
    "    area_compare = gdf_compare.area.sum() / 1e6 # in km2\n",
    "\n",
    "    # Calculate the relative difference in area between the reported area and the area of the catchment\n",
    "    ratio_area_difference = abs(area_reported - area_compare) / area_reported\n",
    "\n",
    "    return ratio_area_difference\n"
   ]
  },
  {
   "cell_type": "code",
   "execution_count": 11,
   "metadata": {},
   "outputs": [
    {
     "name": "stdout",
     "output_type": "stream",
     "text": [
      "Number of stations without preselection: 2870\n",
      "Number of stations with difference between merit hydro catchment area and area reported smaller than 0.1: 2001\n"
     ]
    }
   ],
   "source": [
    "# initialize column to store if difference between reported and merit hydro catchment area is smaller than maximum_difference_to_reported_area\n",
    "df_criteria[f\"merit_difference_to_reported_area_smaller_{int(maximum_difference_to_reported_area * 100)}_percent\"] = False # catchments without merit hydro catchment are False by default\n",
    "\n",
    "for camels_id in df_criteria.index.values:\n",
    "    # initialize station\n",
    "    s = Station(camels_id)\n",
    "\n",
    "    # get reported area from Station metadata\n",
    "    area_reported = s.metadata[\"area\"].values[0]\n",
    "\n",
    "    # get merit hydro catchment\n",
    "    gdf_merit = s.get_catchment(\"merit_hydro\")\n",
    "\n",
    "    ratio_area_difference = calculate_relative_difference_to_area_reported(area_reported, gdf_merit)\n",
    "\n",
    "    # fill column with True if ratio_area_difference is smaller than maximum_difference_to_reported_area\n",
    "    if ratio_area_difference is not None and ratio_area_difference <= maximum_difference_to_reported_area:\n",
    "        df_criteria.loc[camels_id, f\"merit_difference_to_reported_area_smaller_{int(maximum_difference_to_reported_area * 100)}_percent\"] = True\n",
    "\n",
    "print(f\"Number of stations without preselection: {len(df_criteria)}\")\n",
    "print(f\"Number of stations with difference between merit hydro catchment area and area reported smaller than {maximum_difference_to_reported_area}: {len(df_criteria[df_criteria[f'merit_difference_to_reported_area_smaller_{int(maximum_difference_to_reported_area * 100)}_percent'] == True])}\")\n"
   ]
  },
  {
   "cell_type": "markdown",
   "metadata": {},
   "source": [
    "## Inspect results\n",
    "\n",
    "### CAMELS-DE\n",
    "\n",
    "In CAMELS-DE, we only want to include stations fulfilling the following criteria:\n",
    "- MERIT Hydro catchment available\n",
    "- 10 years of Q\n",
    "- area between 5 and 15,000 km²\n",
    "- catchment completely inside Germany (HYRAS limitation)\n",
    "- Difference to the reported area max. 10 percent"
   ]
  },
  {
   "cell_type": "code",
   "execution_count": 19,
   "metadata": {},
   "outputs": [
    {
     "data": {
      "text/html": [
       "<div>\n",
       "<style scoped>\n",
       "    .dataframe tbody tr th:only-of-type {\n",
       "        vertical-align: middle;\n",
       "    }\n",
       "\n",
       "    .dataframe tbody tr th {\n",
       "        vertical-align: top;\n",
       "    }\n",
       "\n",
       "    .dataframe thead th {\n",
       "        text-align: right;\n",
       "    }\n",
       "</style>\n",
       "<table border=\"1\" class=\"dataframe\">\n",
       "  <thead>\n",
       "    <tr style=\"text-align: right;\">\n",
       "      <th></th>\n",
       "      <th>merit_hydro_available</th>\n",
       "      <th>q_more_than_10_years</th>\n",
       "      <th>area_within_limits</th>\n",
       "      <th>completely_within_germany</th>\n",
       "      <th>difference_to_reported_area_within_limits</th>\n",
       "    </tr>\n",
       "  </thead>\n",
       "  <tbody>\n",
       "    <tr>\n",
       "      <th>DEG10000</th>\n",
       "      <td>True</td>\n",
       "      <td>True</td>\n",
       "      <td>True</td>\n",
       "      <td>True</td>\n",
       "      <td>True</td>\n",
       "    </tr>\n",
       "    <tr>\n",
       "      <th>DEG10010</th>\n",
       "      <td>True</td>\n",
       "      <td>True</td>\n",
       "      <td>True</td>\n",
       "      <td>True</td>\n",
       "      <td>True</td>\n",
       "    </tr>\n",
       "    <tr>\n",
       "      <th>DEG10020</th>\n",
       "      <td>True</td>\n",
       "      <td>True</td>\n",
       "      <td>True</td>\n",
       "      <td>True</td>\n",
       "      <td>True</td>\n",
       "    </tr>\n",
       "    <tr>\n",
       "      <th>DEG10030</th>\n",
       "      <td>True</td>\n",
       "      <td>True</td>\n",
       "      <td>True</td>\n",
       "      <td>False</td>\n",
       "      <td>True</td>\n",
       "    </tr>\n",
       "    <tr>\n",
       "      <th>DEG10050</th>\n",
       "      <td>True</td>\n",
       "      <td>True</td>\n",
       "      <td>True</td>\n",
       "      <td>True</td>\n",
       "      <td>True</td>\n",
       "    </tr>\n",
       "    <tr>\n",
       "      <th>...</th>\n",
       "      <td>...</td>\n",
       "      <td>...</td>\n",
       "      <td>...</td>\n",
       "      <td>...</td>\n",
       "      <td>...</td>\n",
       "    </tr>\n",
       "    <tr>\n",
       "      <th>DE112410</th>\n",
       "      <td>True</td>\n",
       "      <td>True</td>\n",
       "      <td>True</td>\n",
       "      <td>True</td>\n",
       "      <td>True</td>\n",
       "    </tr>\n",
       "    <tr>\n",
       "      <th>DE112420</th>\n",
       "      <td>True</td>\n",
       "      <td>True</td>\n",
       "      <td>True</td>\n",
       "      <td>True</td>\n",
       "      <td>True</td>\n",
       "    </tr>\n",
       "    <tr>\n",
       "      <th>DE112450</th>\n",
       "      <td>True</td>\n",
       "      <td>True</td>\n",
       "      <td>True</td>\n",
       "      <td>True</td>\n",
       "      <td>True</td>\n",
       "    </tr>\n",
       "    <tr>\n",
       "      <th>DE112480</th>\n",
       "      <td>True</td>\n",
       "      <td>True</td>\n",
       "      <td>True</td>\n",
       "      <td>True</td>\n",
       "      <td>True</td>\n",
       "    </tr>\n",
       "    <tr>\n",
       "      <th>DE112490</th>\n",
       "      <td>True</td>\n",
       "      <td>True</td>\n",
       "      <td>True</td>\n",
       "      <td>True</td>\n",
       "      <td>True</td>\n",
       "    </tr>\n",
       "  </tbody>\n",
       "</table>\n",
       "<p>1753 rows × 5 columns</p>\n",
       "</div>"
      ],
      "text/plain": [
       "          merit_hydro_available  q_more_than_10_years  area_within_limits  \\\n",
       "DEG10000                   True                  True                True   \n",
       "DEG10010                   True                  True                True   \n",
       "DEG10020                   True                  True                True   \n",
       "DEG10030                   True                  True                True   \n",
       "DEG10050                   True                  True                True   \n",
       "...                         ...                   ...                 ...   \n",
       "DE112410                   True                  True                True   \n",
       "DE112420                   True                  True                True   \n",
       "DE112450                   True                  True                True   \n",
       "DE112480                   True                  True                True   \n",
       "DE112490                   True                  True                True   \n",
       "\n",
       "          completely_within_germany  difference_to_reported_area_within_limits  \n",
       "DEG10000                       True                                       True  \n",
       "DEG10010                       True                                       True  \n",
       "DEG10020                       True                                       True  \n",
       "DEG10030                      False                                       True  \n",
       "DEG10050                       True                                       True  \n",
       "...                             ...                                        ...  \n",
       "DE112410                       True                                       True  \n",
       "DE112420                       True                                       True  \n",
       "DE112450                       True                                       True  \n",
       "DE112480                       True                                       True  \n",
       "DE112490                       True                                       True  \n",
       "\n",
       "[1753 rows x 5 columns]"
      ]
     },
     "execution_count": 19,
     "metadata": {},
     "output_type": "execute_result"
    }
   ],
   "source": [
    "# filter df_criteria to only contain stations that fulfill all criteria\n",
    "df_criteria[\n",
    "    (df_criteria[\"merit_hydro_available\"] == True) & \n",
    "    (df_criteria[f\"q_more_than_{min_years_of_q}_years\"] == True) &\n",
    "    (df_criteria[f\"merit_area_greater_{min_area}_smaller_{max_area}\"] == True) & \n",
    "    (df_criteria[\"merit_completely_within_germany\"] == True) &\n",
    "    (df_criteria[f\"merit_difference_to_reported_area_smaller_{int(maximum_difference_to_reported_area * 100)}_percent\"] == True)\n",
    "    ]"
   ]
  },
  {
   "cell_type": "markdown",
   "metadata": {},
   "source": [
    "### CAMELS-DE-CARAVAN\n",
    "\n",
    "The difference between CAMELS-DE and CAMELS-DE-CARAVAN is, that we can include catchments that cross the border of Germany, as the global meteorological dataset ERA5-Land is used here, the rest of the criteria are unchanged.  \n",
    "- MERIT Hydro catchment available\n",
    "- 10 years of Q\n",
    "- area between 5 and 15,000 km²\n",
    "- Difference to the reported area max. 10 percent"
   ]
  },
  {
   "cell_type": "code",
   "execution_count": null,
   "metadata": {},
   "outputs": [],
   "source": [
    "# filter df_criteria to only contain stations that fulfill all criteria\n",
    "df_criteria[\n",
    "    (df_criteria[\"merit_hydro_available\"] == True) & \n",
    "    (df_criteria[f\"q_more_than_{min_years_of_q}_years\"] == True) &\n",
    "    (df_criteria[f\"merit_area_greater_{min_area}_smaller_{max_area}\"] == True) & \n",
    "    (df_criteria[f\"merit_difference_to_reported_area_smaller_{int(maximum_difference_to_reported_area * 100)}_percent\"] == True)\n",
    "    ]"
   ]
  },
  {
   "cell_type": "markdown",
   "metadata": {},
   "source": [
    "## Add criteria columns to metadata.csv\n",
    "\n",
    "In the last step, we add the criteria to the metadata to allow filtering for the stations we want to include in CAMELS-DE and CAMELS-DE-CARAVAN."
   ]
  },
  {
   "cell_type": "code",
   "execution_count": null,
   "metadata": {},
   "outputs": [],
   "source": [
    "# read metadata.csv\n",
    "meta = pd.read_csv(\"/camelsp/output_data/metadata/metadata.csv\")\n",
    "\n",
    "# set index name of df_criteria to \"camels_id\" to allow easy merging with metadata\n",
    "df_criteria.index.name = \"camels_id\"\n",
    "\n",
    "# identify columns in df_criteria that are not in meta\n",
    "new_columns = [col for col in df_criteria.columns if col not in meta.columns]\n",
    "\n",
    "# join only new columns\n",
    "merged = meta.join(df_criteria[new_columns], on=\"camels_id\", how=\"left\")\n",
    "\n",
    "# save merged dataframe to csv\n",
    "merged.to_csv(\"/camelsp/output_data/metadata/metadata.csv\", index=False)"
   ]
  },
  {
   "cell_type": "code",
   "execution_count": null,
   "metadata": {},
   "outputs": [],
   "source": [
    "get_metadata()"
   ]
  }
 ],
 "metadata": {
  "kernelspec": {
   "display_name": "base",
   "language": "python",
   "name": "python3"
  },
  "language_info": {
   "codemirror_mode": {
    "name": "ipython",
    "version": 3
   },
   "file_extension": ".py",
   "mimetype": "text/x-python",
   "name": "python",
   "nbconvert_exporter": "python",
   "pygments_lexer": "ipython3",
   "version": "3.11.7"
  }
 },
 "nbformat": 4,
 "nbformat_minor": 2
}
